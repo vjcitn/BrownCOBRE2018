{
 "cells": [
  {
   "cell_type": "markdown",
   "metadata": {},
   "source": [
    "# Brown Univ. Introduction to Bioconductor 2018, Period 2\n",
    "\n",
    "## Genomic ranges for organizing and interrogating genome-scale data\n",
    "\n",
    "Period 2 has the following basic outline.  We want to understand the basic IRanges and GRanges infrastructure components and then use them to organize and interrogate genomic experiments."
   ]
  },
  {
   "cell_type": "markdown",
   "metadata": {},
   "source": [
    "Working with general genomic features using GenomicRanges:\n",
    "-  IRanges introduced\n",
    "-  Intra-range operations\n",
    "-  Inter-range operations\n",
    "-  GRanges\n",
    "-  Calculating overlaps\n",
    "\n",
    "Range-oriented solutions for current experimental paradigms:\n",
    "-  GenomicFiles for families of BAM or BED\n",
    "-  SummarizedExperiment: for RNA-seq\n"
   ]
  },
  {
   "cell_type": "code",
   "execution_count": null,
   "metadata": {
    "collapsed": true
   },
   "outputs": [],
   "source": [
    "suppressPackageStartupMessages({  # basic setup tasks\n",
    "    library(IRanges)\n",
    "    library(Homo.sapiens)\n",
    "    library(GenomicRanges)\n",
    "    library(gwascat)\n",
    "    library(BiocStyle)\n",
    "    library(RNAseqData.HNRNPC.bam.chr14)\n",
    "    library(GenomicFiles)\n",
    "    library(erma)\n",
    "    library(rtracklayer)\n",
    "    })"
   ]
  },
  {
   "cell_type": "markdown",
   "metadata": {},
   "source": [
    "## Introducing IRanges\n",
    "\n",
    "The [IRanges](http://bioconductor.org/packages/IRanges) package is fundamental infrastructure for Bioconductor.  It lies at the heart of much genomic annotation and data representation.\n",
    "\n",
    "The schematic diagram below should be read from the bottom up.  The horizontal scale can be regarded\n",
    "as genomic base positions."
   ]
  },
  {
   "cell_type": "markdown",
   "metadata": {},
   "source": [
    "<img src=\"iranges.png\" height=\"450\" width=\"450\" />"
   ]
  },
  {
   "cell_type": "markdown",
   "metadata": {},
   "source": [
    "  ### Intra-range operations\n",
    "\n",
    "We are working with the positions in the interval [5, 10], shaded pink above.  We will learn how to interpret the methods\n",
    "`shift`, `narrow`, `flank`, `resize`, and various arithmetic operations."
   ]
  },
  {
   "cell_type": "markdown",
   "metadata": {},
   "source": [
    "We create our basic IRanges instance:"
   ]
  },
  {
   "cell_type": "code",
   "execution_count": null,
   "metadata": {},
   "outputs": [],
   "source": [
    "ir = IRanges(5, 10)\n",
    "ir"
   ]
  },
  {
   "cell_type": "markdown",
   "metadata": {},
   "source": [
    "Now function calls for selected 'intra-range' operations."
   ]
  },
  {
   "cell_type": "code",
   "execution_count": null,
   "metadata": {},
   "outputs": [],
   "source": [
    "shift(ir, -2)"
   ]
  },
  {
   "cell_type": "code",
   "execution_count": null,
   "metadata": {},
   "outputs": [],
   "source": [
    "resize(ir, 1)"
   ]
  },
  {
   "cell_type": "markdown",
   "metadata": {},
   "source": [
    "### Multi-range objects\n",
    "\n",
    "We can create a family of ranges using vector inputs to the IRanges method."
   ]
  },
  {
   "cell_type": "code",
   "execution_count": null,
   "metadata": {},
   "outputs": [],
   "source": [
    "ir <- IRanges(c(3, 8, 14, 15, 19, 34, 40),\n",
    "  width = c(12, 6, 6, 15, 6, 2, 7))\n",
    "ir"
   ]
  },
  {
   "cell_type": "markdown",
   "metadata": {},
   "source": [
    "This range set is displayed in the figure below.  The intra-range operations will be applied elementwise."
   ]
  },
  {
   "cell_type": "code",
   "execution_count": null,
   "metadata": {},
   "outputs": [],
   "source": [
    "resize(ir,1)  # leftmost width-1 position "
   ]
  },
  {
   "cell_type": "markdown",
   "metadata": {},
   "source": [
    "### Inter-range operations"
   ]
  },
  {
   "cell_type": "markdown",
   "metadata": {},
   "source": [
    "Information about inter-range operations can be obtained using `?\"inter-range-methods\"`.  For example, for a multi-range instance `ir`, `reduce(ir)`\n",
    "produces a new IRanges instance representing the merging of all locations occupied by any range."
   ]
  },
  {
   "cell_type": "code",
   "execution_count": null,
   "metadata": {},
   "outputs": [],
   "source": [
    "reduce(ir)"
   ]
  },
  {
   "cell_type": "markdown",
   "metadata": {},
   "source": [
    "<img src=\"multirange.png\" height=\"500\" width=\"500\" />"
   ]
  },
  {
   "cell_type": "markdown",
   "metadata": {},
   "source": [
    "### Metadata and indexing for ranges\n",
    "\n",
    "We can give names to ranges, associate multiple fields of metadata to each range (using `mcols`), and use bracket-style indexing."
   ]
  },
  {
   "cell_type": "code",
   "execution_count": null,
   "metadata": {},
   "outputs": [],
   "source": [
    "names(ir) = letters[1:7]\n",
    "ir[c(\"a\", \"d\")]"
   ]
  },
  {
   "cell_type": "markdown",
   "metadata": {},
   "source": [
    "The association of a collection of attributes with each range is very useful for genomic annotation.  Any\n",
    "conformant data.frame instance (one row per range) can be used with the `mcols` assignment operation to\n",
    "annotate a set of ranges.  We use some attributes of the `mtcars` dataset for illustration."
   ]
  },
  {
   "cell_type": "code",
   "execution_count": null,
   "metadata": {},
   "outputs": [],
   "source": [
    "mcols(ir) = mtcars[1:7,1:3]\n",
    "ir"
   ]
  },
  {
   "cell_type": "code",
   "execution_count": null,
   "metadata": {},
   "outputs": [],
   "source": [
    "resize(ir,1) # metadata are propagated for intra-range operations"
   ]
  },
  {
   "cell_type": "code",
   "execution_count": null,
   "metadata": {},
   "outputs": [],
   "source": [
    "gaps(ir) # not for inter-range operations"
   ]
  },
  {
   "cell_type": "markdown",
   "metadata": {},
   "source": [
    "`IRanges` is the name of a formal class, and we can enumerate all known methods on this class:"
   ]
  },
  {
   "cell_type": "code",
   "execution_count": null,
   "metadata": {},
   "outputs": [],
   "source": [
    "length(methods(class=\"IRanges\"))"
   ]
  },
  {
   "cell_type": "markdown",
   "metadata": {},
   "source": [
    "Clearly there is substantial infrastructure defined for this concept.  The roles of some of these\n",
    "methods in genome-scale analysis becomes clearer in the next section."
   ]
  },
  {
   "cell_type": "markdown",
   "metadata": {},
   "source": [
    "### Exercises\n",
    "\n",
    "The `ir` object that combines ranges with some information on car models is completely contrived\n",
    "but the following questions should be manageable.\n",
    "\n",
    "Write the code to determine the maximum width of ranges corresponding to 6 cylinder cars."
   ]
  },
  {
   "cell_type": "code",
   "execution_count": null,
   "metadata": {},
   "outputs": [],
   "source": [
    "max(width(ir[mcols(ir)$cyl==6]))"
   ]
  },
  {
   "cell_type": "markdown",
   "metadata": {},
   "source": [
    "Show that the average value of miles per gallon for cars corresponding to ranges with start values greater than 14\n",
    "is 18.125."
   ]
  },
  {
   "cell_type": "code",
   "execution_count": null,
   "metadata": {
    "collapsed": true
   },
   "outputs": [],
   "source": []
  },
  {
   "cell_type": "markdown",
   "metadata": {},
   "source": [
    "### Finding overlapping regions\n",
    "\n",
    "The problem of finding overlaps among collections of intervals is commonly encountered.  There are\n",
    "various nuances covered in the documentation.  We'll use our collection of intervals `ir` to\n",
    "illustrate the basic idea.  We'll break the set into two groups."
   ]
  },
  {
   "cell_type": "code",
   "execution_count": null,
   "metadata": {},
   "outputs": [],
   "source": [
    "ir1 = ir[c(3,7)]\n",
    "ir2 = ir[-c(3,7)]\n",
    "ir1"
   ]
  },
  {
   "cell_type": "code",
   "execution_count": null,
   "metadata": {},
   "outputs": [],
   "source": [
    "ir2"
   ]
  },
  {
   "cell_type": "markdown",
   "metadata": {},
   "source": [
    "We then use `findOverlaps`, which has two obligatory arguments: query, and subject."
   ]
  },
  {
   "cell_type": "code",
   "execution_count": null,
   "metadata": {},
   "outputs": [],
   "source": [
    "fo = findOverlaps(ir1, ir2) # ir1 is query, ir2 is subject\n",
    "fo "
   ]
  },
  {
   "cell_type": "markdown",
   "metadata": {},
   "source": [
    "The elements of `ir2` that were overlapped by ranges in `ir1` are listed as follows:"
   ]
  },
  {
   "cell_type": "code",
   "execution_count": null,
   "metadata": {},
   "outputs": [],
   "source": [
    "ir2[subjectHits(fo)]"
   ]
  },
  {
   "cell_type": "markdown",
   "metadata": {},
   "source": [
    "A logical vector indicating which elements of `ir1` overlapped elements of `ir2` can be computed as"
   ]
  },
  {
   "cell_type": "code",
   "execution_count": null,
   "metadata": {},
   "outputs": [],
   "source": [
    "ir1 %over% ir2"
   ]
  },
  {
   "cell_type": "markdown",
   "metadata": {},
   "source": [
    "## GRanges to handle the context of genomic coordinates\n",
    "\n",
    "Base positions and intervals on genomic sequences can be modeled using IRanges, but it is essential\n",
    "to add metadata that establish a number of contextual details.  It is typical to maintain information\n",
    "about chromosome identity and chromosome length, along with labels for genome build and origin.\n",
    "We saw one example early on: apply the `genes` method to `Homo.sapiens`."
   ]
  },
  {
   "cell_type": "code",
   "execution_count": null,
   "metadata": {},
   "outputs": [],
   "source": [
    "library(Homo.sapiens)\n",
    "hg = genes(Homo.sapiens)\n",
    "hg"
   ]
  },
  {
   "cell_type": "markdown",
   "metadata": {},
   "source": [
    "There is an obligatory metadata construct called `seqnames` that gives the chromosome occupied by the gene whose start and end positions are modeled by the associated `IRanges`.  Strand is also recorded.  \n",
    "\n",
    "Plus strand features have the biological direction from left to right on the number line, and minus strand features have the biological direction from right to left. In terms of the IRanges, plus strand features go from start to end, and minus strand features go from end to start. This is required because width is defined as end - start + 1, and negative width ranges are not allowed. Because DNA has two strands, which have an opposite directionality, strand is necessary for uniquely referring to DNA.\n",
    "\n",
    "Strand may have values `+`, `-`, or `*` for unspecified.  `seqinfo` collects information on the chromosome names, lengths, circularity, and reference build."
   ]
  },
  {
   "cell_type": "markdown",
   "metadata": {},
   "source": [
    "### Mildly advanced exercise\n",
    "\n",
    "You might find the ordering of ranges shown above unpleasant.  We can order them by chromosome:\n"
   ]
  },
  {
   "cell_type": "code",
   "execution_count": null,
   "metadata": {},
   "outputs": [],
   "source": [
    "hg[order(seqnames(hg))]"
   ]
  },
  {
   "cell_type": "markdown",
   "metadata": {},
   "source": [
    "Add code that orders the ranges by starting position within chromosome."
   ]
  },
  {
   "cell_type": "code",
   "execution_count": null,
   "metadata": {
    "collapsed": true
   },
   "outputs": [],
   "source": []
  },
  {
   "cell_type": "markdown",
   "metadata": {},
   "source": [
    "### Vector operations\n",
    "\n",
    "GRanges can be treated as any standard vector."
   ]
  },
  {
   "cell_type": "code",
   "execution_count": null,
   "metadata": {},
   "outputs": [],
   "source": [
    "hg[1:4] # first four in the lexical ordering of `names(hg)`"
   ]
  },
  {
   "cell_type": "code",
   "execution_count": null,
   "metadata": {},
   "outputs": [],
   "source": [
    "sort(hg)[1:4]  # physical ordering on plus strand"
   ]
  },
  {
   "cell_type": "code",
   "execution_count": null,
   "metadata": {},
   "outputs": [],
   "source": [
    "savestrand = strand(hg)\n",
    "strand(hg) = \"*\"\n",
    "sort(hg)[1:4] # different!"
   ]
  },
  {
   "cell_type": "code",
   "execution_count": null,
   "metadata": {
    "collapsed": true
   },
   "outputs": [],
   "source": [
    "strand(hg) = savestrand  # restore"
   ]
  },
  {
   "cell_type": "markdown",
   "metadata": {},
   "source": [
    "### Multichromosome context\n",
    "\n",
    "`seqinfo` is an important method for/component of well-annotated GenomicRanges instances."
   ]
  },
  {
   "cell_type": "code",
   "execution_count": null,
   "metadata": {},
   "outputs": [],
   "source": [
    "seqinfo(hg)"
   ]
  },
  {
   "cell_type": "code",
   "execution_count": null,
   "metadata": {},
   "outputs": [],
   "source": [
    "sum(isCircular(hg), na.rm=TRUE) # how many circular chromosomes?"
   ]
  },
  {
   "cell_type": "code",
   "execution_count": null,
   "metadata": {},
   "outputs": [],
   "source": [
    "seqinfo(hg)[\"chrM\"]"
   ]
  },
  {
   "cell_type": "code",
   "execution_count": null,
   "metadata": {
    "collapsed": true
   },
   "outputs": [],
   "source": [
    "# table(seqnames(hg)) # counts of genes per chromosome (or random/unmapped contig)"
   ]
  },
  {
   "cell_type": "code",
   "execution_count": null,
   "metadata": {},
   "outputs": [],
   "source": [
    "hg[ which(seqnames(hg)==\"chr22\") ]"
   ]
  },
  {
   "cell_type": "code",
   "execution_count": null,
   "metadata": {},
   "outputs": [],
   "source": [
    "hgs = keepStandardChromosomes(hg, pruning.mode=\"coarse\") # eliminate random/unmapped\n",
    "hgs"
   ]
  },
  {
   "cell_type": "code",
   "execution_count": null,
   "metadata": {},
   "outputs": [],
   "source": [
    "table(seqnames(hgs))"
   ]
  },
  {
   "cell_type": "markdown",
   "metadata": {},
   "source": [
    "### GRangesList for grouped genomic elements\n",
    "\n",
    "Exons are elements of gene models.  The `exons` method gives a flat sequence of GRanges recording exon positions.  `exonsBy` organizes the exons into genes, yielding a special structure called `GRangesList`."
   ]
  },
  {
   "cell_type": "code",
   "execution_count": null,
   "metadata": {},
   "outputs": [],
   "source": [
    "ebg = exonsBy(Homo.sapiens, by = \"gene\")\n",
    "ebg"
   ]
  },
  {
   "cell_type": "markdown",
   "metadata": {},
   "source": [
    "### Exercise\n",
    "\n",
    "Note that the unlist(ebg) is efficiently computed and retains the gene entrez id as the name\n",
    "of each exon range.  Give the entrez id of the gene with the longest exon."
   ]
  },
  {
   "cell_type": "code",
   "execution_count": null,
   "metadata": {},
   "outputs": [],
   "source": []
  },
  {
   "cell_type": "code",
   "execution_count": null,
   "metadata": {
    "collapsed": true
   },
   "outputs": [],
   "source": [
    "# keepStandardChromosomes(ebg, pruning.mode=\"coarse\")"
   ]
  },
  {
   "cell_type": "markdown",
   "metadata": {},
   "source": [
    "#### Exercises"
   ]
  },
  {
   "cell_type": "markdown",
   "metadata": {},
   "source": [
    "What is the minimum, mean, and maximum number of exons per human gene? "
   ]
  },
  {
   "cell_type": "code",
   "execution_count": null,
   "metadata": {},
   "outputs": [],
   "source": []
  },
  {
   "cell_type": "markdown",
   "metadata": {},
   "source": [
    "What is the shortest and the longest human gene? Convert Entrez Gene IDs to human gene symbols. *Hint* see `?Homo.sapiens` for an example of using `select` to map gene identifiers. Your `keys` will be the IDs, `keytype` will be \"ENTREZID\", and `column` will be \"SYMBOL\". "
   ]
  },
  {
   "cell_type": "code",
   "execution_count": null,
   "metadata": {},
   "outputs": [],
   "source": []
  },
  {
   "cell_type": "markdown",
   "metadata": {},
   "source": [
    "How many human genes and exons are annotated in the `Homo.sapiens` package?"
   ]
  },
  {
   "cell_type": "code",
   "execution_count": null,
   "metadata": {
    "collapsed": true
   },
   "outputs": [],
   "source": []
  },
  {
   "cell_type": "markdown",
   "metadata": {},
   "source": [
    "### Strand-aware operations\n",
    "\n",
    "Here we present code that helps visualize strand-awareness of GRanges operations.  We will\n",
    "assign strands for the ranges used above and then plot the results of operations that could represent\n",
    "isolation of transcription-start sites `(resize(...,1))`, identifying upstream promoter regions\n",
    "`(flank(...,[len]))` or downstream promoter regions `(flank, ..., len, start=FALSE)`."
   ]
  },
  {
   "cell_type": "code",
   "execution_count": null,
   "metadata": {
    "collapsed": true
   },
   "outputs": [],
   "source": [
    "plotGRanges = function (x, xlim = x, col = \"black\", sep = 0.5, xlimits = c(0, \n",
    "    60), ...) \n",
    "{\n",
    "    main = deparse(substitute(x))\n",
    "    ch = as.character(seqnames(x)[1])\n",
    "    x = ranges(x)\n",
    "    height <- 1\n",
    "    if (is(xlim, \"Ranges\")) \n",
    "        xlim <- c(min(start(xlim)), max(end(xlim)))\n",
    "    bins <- disjointBins(IRanges(start(x), end(x) + 1)) \n",
    "    plot.new()\n",
    "    plot.window(xlim = xlimits, c(0, max(bins) * (height + sep)))\n",
    "    ybottom <- bins * (sep + height) - height\n",
    "    rect(start(x) - 0.5, ybottom, end(x) + 0.5, ybottom + height, \n",
    "        col = col, ...)\n",
    "    title(main, xlab = ch) \n",
    "    axis(1)\n",
    "}\n",
    "    "
   ]
  },
  {
   "cell_type": "markdown",
   "metadata": {},
   "source": [
    "Now we can set up the GRanges and strand information to visualize the various elements."
   ]
  },
  {
   "cell_type": "code",
   "execution_count": null,
   "metadata": {},
   "outputs": [],
   "source": [
    "par(mfrow=c(4,1), mar=c(4,2,2,2))\n",
    "library(GenomicRanges)\n",
    "gir = GRanges(seqnames=\"chr1\", ir, strand=c(rep(\"+\", 4), rep(\"-\",3)))\n",
    "plotGRanges(gir, xlim=c(0,60))\n",
    "plotGRanges(resize(gir,1), xlim=c(0,60),col=\"green\")\n",
    "plotGRanges(flank(gir,3), xlim=c(0,60), col=\"purple\")\n",
    "plotGRanges(flank(gir,2,start=FALSE), xlim=c(0,60), col=\"brown\")"
   ]
  },
  {
   "cell_type": "markdown",
   "metadata": {
    "collapsed": true
   },
   "source": [
    "## An application of findOverlaps with the GWAS catalog\n",
    "\n",
    "Genome-wide association studies (GWAS) are systematically catalogued in a [resource managed at EMBL/EBI](https://www.ebi.ac.uk/gwas/).  We\n",
    "can retrieve a version of the catalog using the [gwascat](http://bioconductor.org/packages/gwascat/) package."
   ]
  },
  {
   "cell_type": "code",
   "execution_count": null,
   "metadata": {},
   "outputs": [],
   "source": [
    "library(gwascat)\n",
    "data(ebicat37)\n",
    "ebicat37"
   ]
  },
  {
   "cell_type": "markdown",
   "metadata": {},
   "source": [
    "There is one range per GWAS finding.  Each range corresponds to a SNP for which an association with a given phenotype is statistically significant, and is replicated.  The `mcols` record many types of data describing the study and the SNP.\n",
    "\n",
    "Notice that the genome is labelled \"GRCh37\".  This is very similar to hg19.  We'll\n",
    "simply alter the tag.  If we did not, we would encounter an 'incompatible genomes error'."
   ]
  },
  {
   "cell_type": "code",
   "execution_count": null,
   "metadata": {
    "collapsed": true
   },
   "outputs": [],
   "source": [
    "genome(ebicat37) = \"hg19\""
   ]
  },
  {
   "cell_type": "markdown",
   "metadata": {},
   "source": [
    "Now we will use findOverlaps to determine which genes have annotated intervals (we'll unpack this concept later) that \n",
    "overlap GWAS hits."
   ]
  },
  {
   "cell_type": "code",
   "execution_count": null,
   "metadata": {},
   "outputs": [],
   "source": [
    "goh = findOverlaps(hg, ebicat37)\n",
    "goh"
   ]
  },
  {
   "cell_type": "markdown",
   "metadata": {},
   "source": [
    "We obtain an instance of the `Hits` class, which records the indices of query ranges and subject ranges that satisfy the default overlap condition."
   ]
  },
  {
   "cell_type": "code",
   "execution_count": null,
   "metadata": {},
   "outputs": [],
   "source": [
    "length(unique(queryHits(goh)))"
   ]
  },
  {
   "cell_type": "markdown",
   "metadata": {},
   "source": [
    "We have counted the number of genes that overlap one or more GWAS hits.  To determine the proportion\n",
    "of SNPs with GWAS associations that lie within gene regions:"
   ]
  },
  {
   "cell_type": "code",
   "execution_count": null,
   "metadata": {},
   "outputs": [],
   "source": [
    "mean(reduce(ebicat37) %over% hg)"
   ]
  },
  {
   "cell_type": "markdown",
   "metadata": {},
   "source": [
    "The same pattern can be used to estimate the proportion of SNP that are GWAS hits lying in exons:"
   ]
  },
  {
   "cell_type": "code",
   "execution_count": null,
   "metadata": {},
   "outputs": [],
   "source": [
    "mean(reduce(ebicat37) %over% exons(Homo.sapiens))"
   ]
  },
  {
   "cell_type": "markdown",
   "metadata": {},
   "source": [
    "Using our crude concept of promoter region (uniform in size for each gene, see ?promoters after attaching\n",
    "GenomicRanges), we can estimate the proportion of SNP that are GWAS hits lying in promoters."
   ]
  },
  {
   "cell_type": "code",
   "execution_count": null,
   "metadata": {},
   "outputs": [],
   "source": [
    "pr = suppressWarnings(promoters(hg, upstream=20000)) # will slip over edge of some chromosomes\n",
    "pr = keepStandardChromosomes(pr, pruning.mode=\"coarse\")\n",
    "mean(reduce(ebicat37) %over% pr)"
   ]
  },
  {
   "cell_type": "markdown",
   "metadata": {},
   "source": [
    "You can use other Bioconductor annotation resources to obtain a more refined definition of 'promoter'."
   ]
  },
  {
   "cell_type": "markdown",
   "metadata": {},
   "source": [
    "## Working with GRanges and assay collections\n",
    "\n",
    "### A collection of bed files\n",
    "\n",
    "The [erma](http://www.bioconductor.org/packages/erma) package was created to demonstrate the\n",
    "use of the [GenomicFiles](http://www.bioconductor.org/packages/GenomicFiles) discipline for\n",
    "interactive computing with collections of BED files.  (erma abbreviates Epigenomic RoadMap Adventures.)\n",
    "The data have been selected from the [roadmap portal](http://egg2.wustl.edu/roadmap/web_portal/),\n",
    "specifically [this folder](http://egg2.wustl.edu/roadmap/data/byFileType/chromhmmSegmentations/ChmmModels/imputed12marks/jointModel/final/).\n",
    "\n",
    "\n",
    "These BED files have tabix-indexed.\n",
    "This allows accelerated retrieval of data lying in specified genomic intervals.\n",
    "\n",
    "We begin by attaching the package and creating an ErmaSet instance."
   ]
  },
  {
   "cell_type": "code",
   "execution_count": null,
   "metadata": {},
   "outputs": [],
   "source": [
    "library(erma)\n",
    "erset = makeErmaSet()\n",
    "erset"
   ]
  },
  {
   "cell_type": "markdown",
   "metadata": {},
   "source": [
    "The `colData` method extracts information concerning the different files.  In this case, each\n",
    "file corresponds to the classification of genomic intervals in a given cell type according to\n",
    "the chromatin state labeling algorithm 'ChromHmm'.\n",
    "\n",
    "In the following cell, we will use a nice method of rendering large tables when using HTML.\n",
    "The DT package includes bindings to javascript functions that render searchable tables. "
   ]
  },
  {
   "cell_type": "code",
   "execution_count": null,
   "metadata": {},
   "outputs": [],
   "source": [
    "library(DT)\n",
    "datatable(as.data.frame(colData(erset)))"
   ]
  },
  {
   "cell_type": "markdown",
   "metadata": {},
   "source": [
    "colData is analogous to the pData that we saw in dealing with the ExpressionSet class.\n",
    "\n",
    "The `$` shortcut is available."
   ]
  },
  {
   "cell_type": "code",
   "execution_count": null,
   "metadata": {},
   "outputs": [],
   "source": [
    "table(erset$ANATOMY)"
   ]
  },
  {
   "cell_type": "markdown",
   "metadata": {},
   "source": [
    "The purpose of this collection is to illustrate how we might work with cell-type-specific information on \n",
    "chromatin state to interpret other genome-scale findings.  A key Bioconductor package for working with\n",
    "BED files is [rtacklayer](http://www.bioconductor.org/packages/rtracklayer).  We'll use the `import`\n",
    "method to extract information from one interval in one file."
   ]
  },
  {
   "cell_type": "code",
   "execution_count": null,
   "metadata": {},
   "outputs": [],
   "source": [
    "library(rtracklayer)\n",
    "import(files(erset)[1], which=GRanges(\"chr1\", IRanges(1e6,1.1e6)))"
   ]
  },
  {
   "cell_type": "markdown",
   "metadata": {},
   "source": [
    "The next file in the collection gives a different collection of chromatin state labels for a different cell type."
   ]
  },
  {
   "cell_type": "code",
   "execution_count": null,
   "metadata": {},
   "outputs": [],
   "source": [
    "import(files(erset)[2], which=GRanges(\"chr1\", IRanges(1e6,1.1e6)))"
   ]
  },
  {
   "cell_type": "markdown",
   "metadata": {},
   "source": [
    "The `stateProfile` function uses extractions of this sort to illustrate the layout of chromatin states\n",
    "in intervals upstream of gene coding regions."
   ]
  },
  {
   "cell_type": "code",
   "execution_count": null,
   "metadata": {},
   "outputs": [],
   "source": [
    "stateProfile(erset[,26:31], symbol=\"IL33\", upstream=1000, shortCellType=FALSE)"
   ]
  },
  {
   "cell_type": "markdown",
   "metadata": {},
   "source": [
    "Detailed information about the different states is provided in the [erma vignette](http://bioconductor.org/packages/release/bioc/vignettes/erma/inst/doc/erma.html).\n",
    "\n",
    "In summary\n",
    "\n",
    "- BED files are commonly encountered representations of outputs of genome-scale experiments\n",
    "- Collections of BED files can be managed with GenomicFiles objects\n",
    "    - file-level data are bound in as `colData`\n",
    "    - intervals of interest are bound in using `rowRanges`\n",
    "- We use rtracklayer::import to retrieve detailed information from BED files\n",
    "- An approach to high-level visualization of chromatin states across diverse cell types is provided in erma::stateProfile"
   ]
  },
  {
   "cell_type": "markdown",
   "metadata": {},
   "source": [
    "### Exercise\n",
    "\n",
    "There are 15 samples with anatomy label 'BLOOD'.  List their cell types, using the Standardized.Epigenome.name\n",
    "component of the `colData(erset)`."
   ]
  },
  {
   "cell_type": "code",
   "execution_count": null,
   "metadata": {},
   "outputs": [],
   "source": [
    "#data.frame(celltype=colData(erset[..."
   ]
  },
  {
   "cell_type": "markdown",
   "metadata": {},
   "source": [
    "### A collection of BAM files\n",
    "\n",
    "The package [RNAseqData.HNRNPC.bam.chr14](http://www.bioconductor.org/packages/RNAseqData.HNRNPC.bam.chr14) includes\n",
    "BAM representation of reads derived from an experiment studying the effect of knocking down\n",
    "HNRNPC (the gene coding for heterogeneous nuclear ribonucleoproteins C1/C2) in HeLa cells.  The\n",
    "purpose of the experiment is to test the hypothesis that these ribonucleoproteins have a role\n",
    "in preventing erroneous inclusion of Alu elements in transcripts.  HNRNPC is located on chr14, and the\n",
    "package has filtered reads from 8 runs to those aligning on chr14.\n",
    "\n",
    "#### Setting up the GenomicFiles container\n",
    "\n",
    "We will use a class and a method from the [GenomicFiles](http://www.bioconductor.org/packages/GenomicFiles) package to manage and query the BAM files.  The locations of the files are present in the vector `RNAseqData.HNRNPC.bam.chr14_BAMFILES`."
   ]
  },
  {
   "cell_type": "code",
   "execution_count": null,
   "metadata": {},
   "outputs": [],
   "source": [
    "library(RNAseqData.HNRNPC.bam.chr14)\n",
    "library(GenomicFiles)\n",
    "gf = GenomicFiles(files=RNAseqData.HNRNPC.bam.chr14_BAMFILES)\n",
    "gf"
   ]
  },
  {
   "cell_type": "markdown",
   "metadata": {
    "collapsed": true
   },
   "source": [
    "#### Defining a region of interest\n",
    "\n",
    "Note that the object `gf` is self-describing and has 0 ranges.  We bind a GRanges to this object to\n",
    "define focus for upcoming operations.  The GRanges that we use corresponds to the location of HNRNPC."
   ]
  },
  {
   "cell_type": "code",
   "execution_count": null,
   "metadata": {},
   "outputs": [],
   "source": [
    "rowRanges(gf) = GRanges(\"chr14\", IRanges(21677295,21737638))\n",
    "gf"
   ]
  },
  {
   "cell_type": "markdown",
   "metadata": {},
   "source": [
    "#### Adding sample-level data\n",
    "\n",
    "We can also assign `colData` to define aspects of the samples."
   ]
  },
  {
   "cell_type": "code",
   "execution_count": null,
   "metadata": {
    "collapsed": true
   },
   "outputs": [],
   "source": [
    "colData(gf) = DataFrame(trt=rep(c(\"WT\", \"KO\"), c(4,4)))"
   ]
  },
  {
   "cell_type": "code",
   "execution_count": null,
   "metadata": {},
   "outputs": [],
   "source": [
    "gf$trt"
   ]
  },
  {
   "cell_type": "markdown",
   "metadata": {},
   "source": [
    "#### A simple method of counting reads aligning to an interval\n",
    "\n",
    "In the next section we will apply a black-box function that we will study more carefully latter.  We are using `summarizeOverlaps` in [GenomicAlignments](http://www.bioconductor.org/packages/GenomicAlignments).  The purpose is to tabulate the counts of reads aligned to HNRNPC."
   ]
  },
  {
   "cell_type": "code",
   "execution_count": null,
   "metadata": {},
   "outputs": [],
   "source": [
    "library(BiocParallel)\n",
    "register(SerialParam())  # can be altered for multicore machines or clusters\n",
    "hc = suppressWarnings(summarizeOverlaps(rowRanges(gf), files(gf), singleEnd=FALSE)) # some ambiguous pairing\n",
    "hc"
   ]
  },
  {
   "cell_type": "markdown",
   "metadata": {},
   "source": [
    "`summarizeOverlaps` returns a new type of object that we will examine more closely below.  For the\n",
    "moment, we are concerned with retrieving the read counts from this object, and this uses the `assay` method."
   ]
  },
  {
   "cell_type": "code",
   "execution_count": null,
   "metadata": {},
   "outputs": [],
   "source": [
    "assay(hc)"
   ]
  },
  {
   "cell_type": "markdown",
   "metadata": {},
   "source": [
    "These are raw counts.  We will talk about normalization and statistical inference later in the course."
   ]
  },
  {
   "cell_type": "markdown",
   "metadata": {},
   "source": [
    "### SummarizedExperiment for mature assay collections\n",
    "\n",
    "The SummarizedExperiment class is defined in the [SummarizedExperiment](http://www.bioconductor.org/packages/SummarizedExperiment) package.  We implicitly created one with\n",
    "`summarizeOverlaps` just above.  That was peculiar because it involved only one gene.  The general\n",
    "situation is schematized here:\n",
    "\n",
    "<img src=\"sepic.png\" height=\"500\" width=\"500\" />\n",
    "\n",
    "There are \"tables\" devoted to the features (rowData or rowRanges), assay outputs (assays),\n",
    "and samples (colData).\n",
    "\n",
    "We'll get acquainted with a typical RNA-seq experiment using the [airway](http://www.bioconductor.org/packages/airway) package."
   ]
  },
  {
   "cell_type": "code",
   "execution_count": null,
   "metadata": {},
   "outputs": [],
   "source": [
    "library(airway)\n",
    "data(airway)\n",
    "airway"
   ]
  },
  {
   "cell_type": "markdown",
   "metadata": {},
   "source": [
    "Subsets of the SummarizedExperiment are obtained using the X[G, S] idiom.  Here we confine\n",
    "attention to 6 features on five samples and extract the counts."
   ]
  },
  {
   "cell_type": "code",
   "execution_count": null,
   "metadata": {},
   "outputs": [],
   "source": [
    "assay(airway[1:6,1:5])"
   ]
  },
  {
   "cell_type": "markdown",
   "metadata": {},
   "source": [
    "Metadata about the features is recorded at the exon level, in a GRangesList instance.  Full details\n",
    "about how the counts were derived is in the vignette for the airway package, and additional approaches\n",
    "are described in [Mike Love's notes](http://genomicsclass.github.io/book/pages/rnaseq_gene_level.html)."
   ]
  },
  {
   "cell_type": "code",
   "execution_count": null,
   "metadata": {},
   "outputs": [],
   "source": [
    "rowRanges(airway)"
   ]
  },
  {
   "cell_type": "markdown",
   "metadata": {},
   "source": [
    "The sample level data is obtained using colData:"
   ]
  },
  {
   "cell_type": "code",
   "execution_count": null,
   "metadata": {},
   "outputs": [],
   "source": [
    "colData(airway)"
   ]
  },
  {
   "cell_type": "markdown",
   "metadata": {},
   "source": [
    "### Exercise \n",
    "\n",
    "Here is a variation on the twoSamplePlot function that works for SummarizedExperiments.  We\n",
    "skip the handling of gene symbols.  Given that ENSG00000103196 is the identifier for CRISPLD2,\n",
    "create the visualization comparing expression of this gene in dexamethasone treated samples to controls."
   ]
  },
  {
   "cell_type": "code",
   "execution_count": null,
   "metadata": {
    "collapsed": true
   },
   "outputs": [],
   "source": [
    "twoSamplePlotSE = function(se, stratvar, rowname) {\n",
    "    boxplot(split(assay(se[rowname,]), \n",
    "                  se[[stratvar]]),xlab=stratvar, ylab=rowname)\n",
    "}"
   ]
  },
  {
   "cell_type": "markdown",
   "metadata": {},
   "source": [
    "### Comment"
   ]
  },
  {
   "cell_type": "markdown",
   "metadata": {},
   "source": [
    "The two plotting functions differ because of the different methods required to\n",
    "extract assay results.  One way to unify them is to branch within the data preparation step."
   ]
  },
  {
   "cell_type": "code",
   "execution_count": null,
   "metadata": {},
   "outputs": [],
   "source": [
    "makeframe = function(x, rowind, colvar) {\n",
    "     if (is(x, \"ExpressionSet\")) xv = exprs\n",
    "         else if (is(x, \"SummarizedExperiment\")) xv = assay\n",
    "     ans = data.frame(t(xv(x[rowind,])), p=x[[colvar]], check.names=FALSE)\n",
    "     names(ans)[2] = colvar\n",
    "     ans\n",
    "     }\n",
    "makeframe(airway, \"ENSG00000103196\", \"dex\")\n"
   ]
  },
  {
   "cell_type": "markdown",
   "metadata": {},
   "source": [
    "There is still the matter of our ability to take advantage of the gene-symbol resolution that we\n",
    "had for the ExpressionSet with fData component.  Achieving semantic uniformity across different\n",
    "data representations is a considerable way off.  Sometimes you will have to do lookups with\n",
    "reference data objects, sometimes you can look 'within' the data object to get the desired notation\n",
    "mapping."
   ]
  },
  {
   "cell_type": "markdown",
   "metadata": {},
   "source": [
    "## Wrapping up\n",
    "\n",
    "- IRanges represent intervals\n",
    "- GRanges use IRanges to represent genomic regions\n",
    "    - seqnames typically identifies chromosome\n",
    "    - mcols can be used to annotate regions\n",
    "    - intra-range and inter-range operations are implemented efficiently\n",
    "    - the locations of all human genes is given by genes(Homo.sapiens)\n",
    "    - the GWAS catalog can be represented as a GRanges\n",
    "    - findOverlaps can be used to identify common locations for diverse phenomena\n",
    "- GenomicFiles manages collections of BED or similar files\n",
    "    - file-level (or sample-level) metadata are bound in with colData\n",
    "    - regions of interest are bound in with rowRanges\n",
    "    - rtracklayer::import extracts quantitative information and metadata\n",
    "    - erma::stateProfile illustrates cell-type-specific variation in chromatin states near genes of interest\n",
    "    - GenomicFiles can manage BAM collections (see also BamFileList)\n",
    "    - summarizeOverlaps can obtain read counts in regions of interest\n",
    "- SummarizedExperiment coordinates information on samples, features, and assay outputs for many types of experiments "
   ]
  }
 ],
 "metadata": {
  "kernelspec": {
   "display_name": "R",
   "language": "R",
   "name": "ir"
  },
  "language_info": {
   "codemirror_mode": "r",
   "file_extension": ".r",
   "mimetype": "text/x-r-source",
   "name": "R",
   "pygments_lexer": "r",
   "version": "3.5.0"
  }
 },
 "nbformat": 4,
 "nbformat_minor": 2
}
